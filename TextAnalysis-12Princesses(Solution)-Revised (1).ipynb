{
 "cells": [
  {
   "cell_type": "code",
   "execution_count": 5,
   "metadata": {},
   "outputs": [],
   "source": [
    "import pandas as pd\n",
    "import re\n",
    "\n",
    "import nltk\n",
    "from nltk.tokenize import word_tokenize\n",
    "from nltk.probability import FreqDist\n",
    "from nltk.corpus import stopwords\n",
    "\n",
    "from string import punctuation"
   ]
  },
  {
   "cell_type": "code",
   "execution_count": 6,
   "metadata": {},
   "outputs": [],
   "source": [
    "#folder path to the file\n",
    "filepath = \"12dancingprincesses.txt\""
   ]
  },
  {
   "cell_type": "code",
   "execution_count": 7,
   "metadata": {},
   "outputs": [],
   "source": [
    "#read in contents of file\n",
    "#\"text\" variable is a string type\n",
    "with open(filepath) as file:\n",
    "    text = file.read()"
   ]
  },
  {
   "cell_type": "code",
   "execution_count": 8,
   "metadata": {
    "scrolled": true
   },
   "outputs": [
    {
     "data": {
      "text/plain": [
       "'THE TWELVE DANCING PRINCESSES\\n\\nThere was a king who had twelve beautiful daughters. They slept in\\ntwelve beds all in one room; and when they went to bed, the doors were\\nshut and locked up; but every morning their shoes were found to be quite\\nworn through as if they had been danced in all night; and yet nobody\\ncould find out how it happened, or where they had been.\\n\\nThen the king made it known to all the land, that if any person could\\ndiscover the secret, and find out where it was that the princesses\\ndanced in the night, he should have the one he liked best for his\\nwife, and should be king after his death; but whoever tried and did not\\nsucceed, after three days and nights, should be put to death.\\n\\nA king’s son soon came. He was well entertained, and in the evening was\\ntaken to the chamber next to the one where the princesses lay in their\\ntwelve beds. There he was to sit and watch where they went to dance;\\nand, in order that nothing might pass without his hearing it, the door\\nof his chamber was left open. But the king’s son soon fell asleep; and\\nwhen he awoke in the morning he found that the princesses had all been\\ndancing, for the soles of their shoes were full of holes. The same thing\\nhappened the second and third night: so the king ordered his head to be\\ncut off. After him came several others; but they had all the same luck,\\nand all lost their lives in the same manner.\\n\\nNow it chanced that an old soldier, who had been wounded in battle\\nand could fight no longer, passed through the country where this king\\nreigned: and as he was travelling through a wood, he met an old woman,\\nwho asked him where he was going. ‘I hardly know where I am going, or\\nwhat I had better do,’ said the soldier; ‘but I think I should like very\\nwell to find out where it is that the princesses dance, and then in time\\nI might be a king.’ ‘Well,’ said the old dame, ‘that is no very hard\\ntask: only take care not to drink any of the wine which one of the\\nprincesses will bring to you in the evening; and as soon as she leaves\\nyou pretend to be fast asleep.’\\n\\nThen she gave him a cloak, and said, ‘As soon as you put that on\\nyou will become invisible, and you will then be able to follow the\\nprincesses wherever they go.’ When the soldier heard all this good\\ncounsel, he determined to try his luck: so he went to the king, and said\\nhe was willing to undertake the task.\\n\\nHe was as well received as the others had been, and the king ordered\\nfine royal robes to be given him; and when the evening came he was led\\nto the outer chamber. Just as he was going to lie down, the eldest of\\nthe princesses brought him a cup of wine; but the soldier threw it all\\naway secretly, taking care not to drink a drop. Then he laid himself\\ndown on his bed, and in a little while began to snore very loud as if\\nhe was fast asleep. When the twelve princesses heard this they laughed\\nheartily; and the eldest said, ‘This fellow too might have done a wiser\\nthing than lose his life in this way!’ Then they rose up and opened\\ntheir drawers and boxes, and took out all their fine clothes, and\\ndressed themselves at the glass, and skipped about as if they were eager\\nto begin dancing. But the youngest said, ‘I don’t know how it is, while\\nyou are so happy I feel very uneasy; I am sure some mischance will\\nbefall us.’ ‘You simpleton,’ said the eldest, ‘you are always afraid;\\nhave you forgotten how many kings’ sons have already watched in vain?\\nAnd as for this soldier, even if I had not given him his sleeping\\ndraught, he would have slept soundly enough.’\\n\\nWhen they were all ready, they went and looked at the soldier; but he\\nsnored on, and did not stir hand or foot: so they thought they were\\nquite safe; and the eldest went up to her own bed and clapped her hands,\\nand the bed sank into the floor and a trap-door flew open. The soldier\\nsaw them going down through the trap-door one after another, the eldest\\nleading the way; and thinking he had no time to lose, he jumped up, put\\non the cloak which the old woman had given him, and followed them;\\nbut in the middle of the stairs he trod on the gown of the youngest\\nprincess, and she cried out to her sisters, ‘All is not right; someone\\ntook hold of my gown.’ ‘You silly creature!’ said the eldest, ‘it is\\nnothing but a nail in the wall.’ Then down they all went, and at the\\nbottom they found themselves in a most delightful grove of trees; and\\nthe leaves were all of silver, and glittered and sparkled beautifully.\\nThe soldier wished to take away some token of the place; so he broke\\noff a little branch, and there came a loud noise from the tree. Then the\\nyoungest daughter said again, ‘I am sure all is not right--did not you\\nhear that noise? That never happened before.’ But the eldest said, ‘It\\nis only our princes, who are shouting for joy at our approach.’\\n\\nThen they came to another grove of trees, where all the leaves were of\\ngold; and afterwards to a third, where the leaves were all glittering\\ndiamonds. And the soldier broke a branch from each; and every time there\\nwas a loud noise, which made the youngest sister tremble with fear; but\\nthe eldest still said, it was only the princes, who were crying for joy.\\nSo they went on till they came to a great lake; and at the side of the\\nlake there lay twelve little boats with twelve handsome princes in them,\\nwho seemed to be waiting there for the princesses.\\n\\nOne of the princesses went into each boat, and the soldier stepped into\\nthe same boat with the youngest. As they were rowing over the lake, the\\nprince who was in the boat with the youngest princess and the soldier\\nsaid, ‘I do not know why it is, but though I am rowing with all my might\\nwe do not get on so fast as usual, and I am quite tired: the boat\\nseems very heavy today.’ ‘It is only the heat of the weather,’ said the\\nprincess: ‘I feel it very warm too.’\\n\\nOn the other side of the lake stood a fine illuminated castle, from\\nwhich came the merry music of horns and trumpets. There they all landed,\\nand went into the castle, and each prince danced with his princess; and\\nthe soldier, who was all the time invisible, danced with them too; and\\nwhen any of the princesses had a cup of wine set by her, he drank it\\nall up, so that when she put the cup to her mouth it was empty. At this,\\ntoo, the youngest sister was terribly frightened, but the eldest always\\nsilenced her. They danced on till three o’clock in the morning, and then\\nall their shoes were worn out, so that they were obliged to leave off.\\nThe princes rowed them back again over the lake (but this time the\\nsoldier placed himself in the boat with the eldest princess); and on the\\nopposite shore they took leave of each other, the princesses promising\\nto come again the next night.\\n\\nWhen they came to the stairs, the soldier ran on before the princesses,\\nand laid himself down; and as the twelve sisters slowly came up very\\nmuch tired, they heard him snoring in his bed; so they said, ‘Now all\\nis quite safe’; then they undressed themselves, put away their fine\\nclothes, pulled off their shoes, and went to bed. In the morning the\\nsoldier said nothing about what had happened, but determined to see more\\nof this strange adventure, and went again the second and third night;\\nand every thing happened just as before; the princesses danced each time\\ntill their shoes were worn to pieces, and then returned home. However,\\non the third night the soldier carried away one of the golden cups as a\\ntoken of where he had been.\\n\\nAs soon as the time came when he was to declare the secret, he was taken\\nbefore the king with the three branches and the golden cup; and the\\ntwelve princesses stood listening behind the door to hear what he would\\nsay. And when the king asked him. ‘Where do my twelve daughters dance at\\nnight?’ he answered, ‘With twelve princes in a castle under ground.’ And\\nthen he told the king all that had happened, and showed him the three\\nbranches and the golden cup which he had brought with him. Then the king\\ncalled for the princesses, and asked them whether what the soldier said\\nwas true: and when they saw that they were discovered, and that it was\\nof no use to deny what had happened, they confessed it all. And the king\\nasked the soldier which of them he would choose for his wife; and he\\nanswered, ‘I am not very young, so I will have the eldest.’--And they\\nwere married that very day, and the soldier was chosen to be the king’s\\nheir.'"
      ]
     },
     "execution_count": 8,
     "metadata": {},
     "output_type": "execute_result"
    }
   ],
   "source": [
    "#each line contains a newline character (\\n)\n",
    "text"
   ]
  },
  {
   "cell_type": "code",
   "execution_count": 9,
   "metadata": {
    "scrolled": true
   },
   "outputs": [],
   "source": [
    "#use regular expression \"sub\" function to replace newlines with whitespace\n",
    "#removes newline from text\n",
    "text = re.sub('\\n', ' ', text)"
   ]
  },
  {
   "cell_type": "code",
   "execution_count": 10,
   "metadata": {},
   "outputs": [],
   "source": [
    "#make text lowercase\n",
    "lower_txt = text.lower()"
   ]
  },
  {
   "cell_type": "code",
   "execution_count": 11,
   "metadata": {},
   "outputs": [
    {
     "data": {
      "text/plain": [
       "'the twelve dancing princesses  there was a king who had twelve beautiful daughters. they slept in tw'"
      ]
     },
     "execution_count": 11,
     "metadata": {},
     "output_type": "execute_result"
    }
   ],
   "source": [
    "#view first 100 characters of text\n",
    "lower_txt[:100]"
   ]
  },
  {
   "cell_type": "code",
   "execution_count": 12,
   "metadata": {},
   "outputs": [],
   "source": [
    "#add other styles of quotation marks that are not included in standard punctuation set\n",
    "new_punct = punctuation + \"‘\" + \"’\""
   ]
  },
  {
   "cell_type": "code",
   "execution_count": 13,
   "metadata": {},
   "outputs": [],
   "source": [
    "#set the list of English stopwords to a variable\n",
    "eng_stopwords = stopwords.words('english') "
   ]
  },
  {
   "cell_type": "code",
   "execution_count": 14,
   "metadata": {},
   "outputs": [
    {
     "data": {
      "text/plain": [
       "['the',\n",
       " 'twelve',\n",
       " 'dancing',\n",
       " 'princesses',\n",
       " 'there',\n",
       " 'was',\n",
       " 'a',\n",
       " 'king',\n",
       " 'who',\n",
       " 'had']"
      ]
     },
     "execution_count": 14,
     "metadata": {},
     "output_type": "execute_result"
    }
   ],
   "source": [
    "#tokenize the text into a list\n",
    "#view the first 10 tokens in the list\n",
    "princess_tknzls = word_tokenize(lower_txt)\n",
    "princess_tknzls[:10]"
   ]
  },
  {
   "cell_type": "code",
   "execution_count": 15,
   "metadata": {},
   "outputs": [
    {
     "data": {
      "text/plain": [
       "1849"
      ]
     },
     "execution_count": 15,
     "metadata": {},
     "output_type": "execute_result"
    }
   ],
   "source": [
    "#number of tokens before removing stopwords & punctuation\n",
    "len(princess_tknzls)"
   ]
  },
  {
   "cell_type": "code",
   "execution_count": 16,
   "metadata": {},
   "outputs": [],
   "source": [
    "#empty list to hold non-stopword/punctuation tokens\n",
    "clean_tknzls = []\n",
    "\n",
    "for token in princess_tknzls:\n",
    "    \n",
    "    #if the token is a stopword or punctuation mark, skip it\n",
    "    if (token in eng_stopwords) or (token in new_punct): pass\n",
    "    \n",
    "    #otherwise, add the token to the clean_tknz list\n",
    "    else:\n",
    "        clean_tknzls.append(token)"
   ]
  },
  {
   "cell_type": "code",
   "execution_count": 17,
   "metadata": {},
   "outputs": [
    {
     "data": {
      "text/plain": [
       "670"
      ]
     },
     "execution_count": 17,
     "metadata": {},
     "output_type": "execute_result"
    }
   ],
   "source": [
    "#number of tokens without the stopwords/punctuation\n",
    "len(clean_tknzls)"
   ]
  },
  {
   "cell_type": "code",
   "execution_count": 18,
   "metadata": {},
   "outputs": [
    {
     "data": {
      "text/plain": [
       "[('soldier', 19),\n",
       " ('princesses', 17),\n",
       " ('said', 16),\n",
       " ('king', 15),\n",
       " ('twelve', 11),\n",
       " ('went', 11),\n",
       " ('came', 10),\n",
       " ('eldest', 10),\n",
       " ('one', 7),\n",
       " ('night', 7)]"
      ]
     },
     "execution_count": 18,
     "metadata": {},
     "output_type": "execute_result"
    }
   ],
   "source": [
    "#make a frequency distribution dictionary\n",
    "tknz_freq = FreqDist(clean_tknzls)\n",
    "\n",
    "#top 10 words in the text\n",
    "tknz_freq.most_common(10)"
   ]
  },
  {
   "cell_type": "code",
   "execution_count": null,
   "metadata": {},
   "outputs": [],
   "source": []
  }
 ],
 "metadata": {
  "kernelspec": {
   "display_name": "Python 3",
   "language": "python",
   "name": "python3"
  },
  "language_info": {
   "codemirror_mode": {
    "name": "ipython",
    "version": 3
   },
   "file_extension": ".py",
   "mimetype": "text/x-python",
   "name": "python",
   "nbconvert_exporter": "python",
   "pygments_lexer": "ipython3",
   "version": "3.7.4"
  }
 },
 "nbformat": 4,
 "nbformat_minor": 2
}
